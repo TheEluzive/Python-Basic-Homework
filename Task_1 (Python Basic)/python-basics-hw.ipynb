{
 "cells": [
  {
   "cell_type": "markdown",
   "metadata": {},
   "source": [
    "**Задание 1**. Даны 2 строки: *long_phrase* и *short_phrase*. \n",
    "Напишите код, который проверяет действительно ли длинная фраза *long_phrase* длиннее короткой *short_phrase*. И выводит *True* или *False* в зависимости от результата сравнения."
   ]
  },
  {
   "cell_type": "code",
   "execution_count": null,
   "metadata": {},
   "outputs": [],
   "source": [
    "long_phrase = 'Насколько проще было бы писать программы, если бы не заказчики'\n",
    "short_phrase = '640Кб должно хватить для любых задач. Билл Гейтс (по легенде)'"
   ]
  },
  {
   "cell_type": "code",
   "execution_count": null,
   "metadata": {},
   "outputs": [],
   "source": [
    "print(len(long_phrase)>len(short_phrase))"
   ]
  },
  {
   "cell_type": "markdown",
   "metadata": {},
   "source": [
    "**Задание 2**. Дано значение объема файла в байтах. Напишите перевод этого значения в мегабайты в формате: \"*Объем файла равен 213.68Mb*\""
   ]
  },
  {
   "cell_type": "code",
   "execution_count": null,
   "metadata": {},
   "outputs": [],
   "source": [
    "size = 99999999\n",
    "print(\"Объем файла равен %.2fMb\" % (size/1014/1024))"
   ]
  },
  {
   "cell_type": "markdown",
   "metadata": {},
   "source": [
    "**Задание 3**. Разработать приложение для определения знака зодиака по дате рождения. Пример:\n",
    "\n",
    "Введите месяц: март\n",
    "\n",
    "Введите число: 6\n",
    "\n",
    "Вывод:\n",
    "Рыбы"
   ]
  },
  {
   "cell_type": "code",
   "execution_count": null,
   "metadata": {},
   "outputs": [],
   "source": [
    "month = str(input(\"Введите месяц: \"))\n",
    "date = int(input(\"Введите число: \"))\n",
    "\n",
    "if month == \"Март\":\n",
    "    if date > 20:\n",
    "        print('Овен')\n",
    "    else:\n",
    "        print('Рыбы')\n",
    "    \n",
    "if month == \"Апрель\":\n",
    "    if date > 20:\n",
    "        print('Телец')\n",
    "    else:\n",
    "        print('Овен')\n",
    "    \n",
    "if month == \"Май\":\n",
    "    if date > 21:\n",
    "        print('Близнецы')\n",
    "    else:\n",
    "        print('Телец')\n",
    "    \n",
    "if month == \"Июнь\":\n",
    "    if date > 21:\n",
    "        print('Рак')\n",
    "    else:\n",
    "        print('Близнецы')\n",
    "    \n",
    "if month == \"Июль\":\n",
    "    if date > 22:\n",
    "        print('Лев')\n",
    "    else:\n",
    "        print('Рак')\n",
    "    \n",
    "if month == \"Август\":\n",
    "    if date > 23:\n",
    "        print('Дева')\n",
    "    else:\n",
    "        print('Дева')\n",
    "    \n",
    "if month == \"Сентябрь\":\n",
    "    if date > 22:\n",
    "        print('Весы')\n",
    "    else:\n",
    "        print('Дева')\n",
    "    \n",
    "if month == \"Октябрь\":\n",
    "    if date > 22:\n",
    "        print('Скорпион')\n",
    "    else:\n",
    "        print('Весы')\n",
    "\n",
    "if month == \"Ноябрь\":\n",
    "    if date > 21:\n",
    "        print('Стрелец')\n",
    "    else:\n",
    "        print('Скорпион')\n",
    "    \n",
    "if month == \"Декабрь\":\n",
    "    if date > 21:\n",
    "        print('Козерог')\n",
    "    else:\n",
    "        print('Стрелец')\n",
    "    \n",
    "if month == \"Январь\":\n",
    "    if date > 20:\n",
    "        print('Водолей')\n",
    "    else:\n",
    "        print('Козерог')\n",
    "    \n",
    "if month == \"Февраль\":\n",
    "    if date > 20:\n",
    "        print('Рыбы')\n",
    "    else:\n",
    "        print('Овен')\n",
    "    \n",
    "    \n",
    "#21 марта – 20 апреля Овен\n",
    "\n",
    "#21 апреля – 21 мая Телец\n",
    "\n",
    "#22 мая – 21 июня Близнецы\n",
    "\n",
    "#22 июня – 22 июля Рак\n",
    "\n",
    "#23 июля – 23 августа Лев\n",
    "\n",
    "#24 августа – 22 сентября Дева\n",
    "\n",
    "#23 сентября – 22 октября Весы\n",
    "\n",
    "#23 октября – 22 ноября Скорпион\n",
    "\n",
    "#22 ноября – 21 декабря Стрелец\n",
    "\n",
    "#22 декабря – 20 января Козерог\n",
    "\n",
    "#21 января – 19 февраля Водолей\n",
    "\n",
    "#20 февраля – 20 марта Рыбы"
   ]
  },
  {
   "cell_type": "markdown",
   "metadata": {},
   "source": [
    "**Задание 4**. Нужно разработать приложение для финансового планирования.\n",
    "Приложение учитывает сколько уходит на ипотеку, \"на жизнь\" и сколько нужно отложить на пенсию.\n",
    "Пользователь вводит:\n",
    "- заработанную плату в месяц.\n",
    "- сколько процентов от ЗП уходит на ипотеку.\n",
    "- сколько процентов от ЗП уходит \"на жизнь\".\n",
    "- сколько раз приходит премия в год.\n",
    "\n",
    "Остальная часть заработанной платы откладывается на пенсию.\n",
    "\n",
    "Также пользователю приходит премия в размере зарплаты, от которой половина уходит на отпуск, а вторая половина откладывается.\n",
    "\n",
    "Программа должна учитывать сколько премий было в год.\n",
    "\n",
    "Нужно вывести сколько денег тратит пользователь на ипотеку и сколько он накопит за год.\n",
    "\n",
    "Пример:\n",
    "\n",
    "Введите заработанную плату в месяц: 100000\n",
    "\n",
    "Введите сколько процентов уходит на ипотеку: 30\n",
    "\n",
    "Введите сколько процентов уходит на жизнь: 50\n",
    "\n",
    "Введите количество премий за год: 2\n",
    "\n",
    "Вывод:\n",
    "На ипотеку было потрачено: 360000 рублей\n",
    "Было накоплено: 340000 рублей"
   ]
  },
  {
   "cell_type": "code",
   "execution_count": null,
   "metadata": {},
   "outputs": [],
   "source": [
    "salary = int(input(\"Введите заработанную плату в месяц: \"))\n",
    "percent_credit = int(input(\"Введите сколько процентов уходит на ипотеку: \"))\n",
    "percent_life = int(input(\"Введите сколько процентов уходит на жизнь: \"))\n",
    "amount_bonus = int(input(\"Введите количество премий за год: \"))\n",
    "\n",
    "year_salary = 12 * salary\n",
    "sum_bonus = amount_bonus * (salary/2)\n",
    "sum_credit = year_salary*percent_credit/100\n",
    "rest = year_salary - year_salary * percent_life / 100 - sum_credit + sum_bonus\n",
    "\n",
    "print(\"Вывод: На ипотеку было потрачено: %d рублей Было накоплено: %d рублей\" % (sum_credit, rest))"
   ]
  },
  {
   "cell_type": "code",
   "execution_count": null,
   "metadata": {},
   "outputs": [],
   "source": [
    "n = int(input(\"Введите n: \"))\n",
    "\n",
    "for i in range(1,n):\n",
    "    if i % 3 == 0:\n",
    "        if i % 5 == 0:\n",
    "            print(\"fizz buzz\")\n",
    "        else:\n",
    "            print(\"fizz\")\n",
    "    elif i % 5 == 0:\n",
    "        print(\"buzz\")\n",
    "    else:\n",
    "        print(i)\n",
    "    "
   ]
  },
  {
   "cell_type": "code",
   "execution_count": 6,
   "metadata": {},
   "outputs": [
    {
     "name": "stdout",
     "output_type": "stream",
     "text": [
      "4\n"
     ]
    }
   ],
   "source": [
    "signal = \"1011101110111011101110111011101110111011\"\n",
    "#number = signal[0];\n",
    "number = \"\"\n",
    "for i in range (0, len(signal)):\n",
    "    if signal.count(number)*i >= len(signal):\n",
    "        print(i)\n",
    "        break\n",
    "    else:\n",
    "        number = number + signal[i]\n",
    "        \n",
    "        \n",
    "    "
   ]
  },
  {
   "cell_type": "code",
   "execution_count": 7,
   "metadata": {},
   "outputs": [
    {
     "name": "stdout",
     "output_type": "stream",
     "text": [
      "t i\n"
     ]
    }
   ],
   "source": [
    "word = \"testing1\"\n",
    "lenght_word = len(word)\n",
    "if lenght_word % 2 == 0:\n",
    "    #print(int(lenght_word/2))\n",
    "    print(word[-1 + int(lenght_word/2)], word[int(lenght_word/2)])\n",
    "else:\n",
    "    print(word[int(lenght_word/2)])"
   ]
  }
 ],
 "metadata": {
  "kernelspec": {
   "display_name": "Python 3",
   "language": "python",
   "name": "python3"
  },
  "language_info": {
   "codemirror_mode": {
    "name": "ipython",
    "version": 3
   },
   "file_extension": ".py",
   "mimetype": "text/x-python",
   "name": "python",
   "nbconvert_exporter": "python",
   "pygments_lexer": "ipython3",
   "version": "3.7.4"
  }
 },
 "nbformat": 4,
 "nbformat_minor": 2
}
